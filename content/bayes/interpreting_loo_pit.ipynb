{
 "cells": [
  {
   "cell_type": "markdown",
   "id": "d0ea659d-075c-49bf-ae55-f66f4f275dac",
   "metadata": {},
   "source": [
    "I got a question about interpreting plots you get from [Arviz](https://arviz-devs.github.io/). This particular one was about LOO-PIT which you can find [here](https://arviz-devs.github.io/arviz/api/generated/arviz.plot_loo_pit.html).\n",
    "\n",
    "Let's go into more details about why you ever need this plot, how to work with it and which actions to take after you see it. A case study."
   ]
  },
  {
   "cell_type": "code",
   "execution_count": 3,
   "id": "60590b60-7ee3-405e-97f5-8a3afe607458",
   "metadata": {
    "tags": [
     "remove_cell"
    ]
   },
   "outputs": [],
   "source": [
    "import pymc as pm\n",
    "import arviz as az"
   ]
  },
  {
   "cell_type": "markdown",
   "id": "2e09ccc8-e20d-4340-a842-1d0a748a0c56",
   "metadata": {
    "tags": []
   },
   "source": [
    "## A generative model"
   ]
  },
  {
   "cell_type": "markdown",
   "id": "3a726c40-ce37-4f46-b0c1-d0612714bee7",
   "metadata": {},
   "source": [
    "First of all, we need a model to demonstrate the pathologies that can be diagnosed with the LOO-PIT. I will use linear regression with robust likelihood to show all possible cases that can be fixed just by looking at the plot."
   ]
  },
  {
   "cell_type": "markdown",
   "id": "7a75a58b-9cef-40d4-945b-a7037d727491",
   "metadata": {},
   "source": [
    "But wait, what is LOO-PIT is you ask? Ok, let's give some theory before we start.\n",
    "\n",
    "* LOO stays for Leave One Out validation. We usually want LOO to cross-validate our model. We train it on all but the one observarions and then make predictions on the one that was holdout. We do that for every single observation.\n",
    "* PIT stays for Probability Integral Transformation. Briefly, it transforms any continuous distribution to the Uniform distribution.\n",
    "\n",
    "While it is relatively clear what is LOO, it is not super clear, what is PIT. Let's make some visualizations."
   ]
  },
  {
   "cell_type": "markdown",
   "id": "d390cc19-8540-4e02-b8a6-bd60fd0ba496",
   "metadata": {},
   "source": [
    "fdf"
   ]
  },
  {
   "cell_type": "code",
   "execution_count": null,
   "id": "5f09eefb-3a5d-455a-9497-7a9f3a729f12",
   "metadata": {},
   "outputs": [],
   "source": []
  }
 ],
 "metadata": {
  "kernelspec": {
   "display_name": "pymc",
   "language": "python",
   "name": "pymc"
  },
  "language_info": {
   "codemirror_mode": {
    "name": "ipython",
    "version": 3
   },
   "file_extension": ".py",
   "mimetype": "text/x-python",
   "name": "python",
   "nbconvert_exporter": "python",
   "pygments_lexer": "ipython3",
   "version": "3.9.7"
  }
 },
 "nbformat": 4,
 "nbformat_minor": 5
}
